{
  "nbformat": 4,
  "nbformat_minor": 0,
  "metadata": {
    "colab": {
      "provenance": [],
      "gpuType": "T4"
    },
    "kernelspec": {
      "name": "python3",
      "display_name": "Python 3"
    },
    "language_info": {
      "name": "python"
    },
    "accelerator": "GPU"
  },
  "cells": [
    {
      "cell_type": "markdown",
      "source": [
        "# Work Trial - Stefan Heimersheim\n",
        "\n",
        "## Instructions\n",
        "- [ ] Save a copy of this Colab notebook to your own drive  (File > Save a copy in Drive)\n",
        "  - [ ] Update the sharing settings to “anyone with the link can comment.\"\n",
        "- [ ] Create a separate Google doc to present your results and take notes, while completing the tasks in your copy of the Colab notebook.\n",
        "  - [ ] Update the sharing settings to “anyone with the link can comment.\"\n",
        "- [ ] Set a timer and start investigating. Do not spend more than 3 hours on this task. State the time spent on this work trial at the top of your Google doc.\n",
        "- [ ] Submit both links in the MARS application."
      ],
      "metadata": {
        "id": "bVQ579SpQJU6"
      }
    },
    {
      "cell_type": "markdown",
      "source": [
        "# Background\n",
        "\n",
        "This is a setting from one of my previous mentoring groups. We were investigating a variation of the model of \"Compressed Computation\" in [Braun et al. 2025](https://arxiv.org/abs/2501.14926) (section 3.2, no need to read).\n",
        "The paper investigated a model that was able to learn 100 ReLU functions (labels) despite having only 50 neurons (actual ReLUs), when the inputs were sparse.\n",
        "\n",
        "We generalized the setting and looked at non-sparse inputs. We want to see what the model learns if there is no sparsity. You will later see (Part 2) that this model _still_ does better than we naively expected. The naive expectation was that the MLP layer will simply ignore half of the features, and perfectly represent the other half. However, we found that, if the inputs are dense, the model achieves a lower loss than this (naive) model.\n",
        "\n",
        "In this task I provide you with the trained model, and ask you to investigate what it's doing. Which features is it representing, what is it doing with the other ones, etc. Ultimately we want to figure out what \"trick\" the model is using to perform better than our naive expectation.\n",
        "\n",
        "I do not expect you to conclude this investigation as part of the work trial. Instead consider this as a first step where you start the investigation, obtain some results, and present them to me (imagine sending a couple of Slack messages, or presenting your results at the next mentoring call)."
      ],
      "metadata": {
        "id": "N_Qa_Vfr_xGp"
      }
    },
    {
      "cell_type": "markdown",
      "source": [
        "# Setup code (imports)"
      ],
      "metadata": {
        "id": "R88KTqnJ78Mp"
      }
    },
    {
      "cell_type": "code",
      "source": [
        "import pickle\n",
        "from dataclasses import dataclass\n",
        "from pathlib import Path\n",
        "\n",
        "import einops\n",
        "import matplotlib.pyplot as plt\n",
        "import numpy as np\n",
        "import torch\n",
        "import torch.nn.functional as F\n",
        "from torch import Tensor, nn"
      ],
      "metadata": {
        "id": "ihGCQpCm78T2"
      },
      "execution_count": null,
      "outputs": []
    },
    {
      "cell_type": "markdown",
      "source": [
        "# Model & training code\n",
        "\n",
        "The following code contains a mostly-standard MLP (but **without biases**) with a skip connection, i.e. a residual network. If you're familiar with transformers, this looks basically like a 1-layer transformer (without attention, and without the sequence dimension).\n",
        "\n",
        "```\n",
        "    x ∈ R^(batch x n_features)\n",
        "         |\n",
        "         v\n",
        "    +----------+\n",
        "    |   W_E    |  Embedding matrix (fixed)\n",
        "    +----------+\n",
        "         |\n",
        "         v\n",
        "    residual ∈ R^(batch x d_embed)\n",
        "         |\n",
        "         |------------+\n",
        "         v            |\n",
        "    +----------+      |\n",
        "    |   W_in   |      |  MLP input weights (trainable)\n",
        "    +----------+      |\n",
        "         |            |\n",
        "         v            |\n",
        "    pre_act ∈ R^(batch x d_mlp)\n",
        "         |            |\n",
        "         v            |\n",
        "    +----------+      |\n",
        "    |   ReLU   |      |  ReLU activation\n",
        "    +----------+      |\n",
        "         |            |\n",
        "         v            |\n",
        "    post_act ∈ R^(batch x d_mlp)\n",
        "         |            |\n",
        "         v            |\n",
        "    +----------+      |\n",
        "    |  W_out   |      |  MLP output weights (trainable)\n",
        "    +----------+      |\n",
        "         |            |\n",
        "         v            |\n",
        "    mlp_out ∈ R^(batch x d_embed)\n",
        "         |            |\n",
        "         +<-----------+\n",
        "         |\n",
        "         v\n",
        "    residual ∈ R^(batch x d_embed)\n",
        "         |\n",
        "         v\n",
        "    +----------+\n",
        "    |   W_E.T  |  Unembedding matrix (fixed)\n",
        "    +----------+\n",
        "         |\n",
        "         v\n",
        "    out ∈ R^(batch x n_features)\n",
        "```"
      ],
      "metadata": {
        "id": "d8VdKqClzbEb"
      }
    },
    {
      "cell_type": "markdown",
      "source": [
        "## Model and training code\n",
        "\n",
        "The model code here should match the description above.\n",
        "\n",
        "You don't need to read the training code."
      ],
      "metadata": {
        "id": "gTIh50kEAGJW"
      }
    },
    {
      "cell_type": "code",
      "source": [
        "@dataclass\n",
        "class Config:\n",
        "    \"\"\"Configuration for the ResidualMLP model and training.\"\"\"\n",
        "\n",
        "    # Model parameters\n",
        "    n_features: int = 100\n",
        "    d_embed: int = 1000\n",
        "    d_mlp: int = 50\n",
        "    # Training parameters\n",
        "    batch_size: int = 2048\n",
        "    steps: int = 1_000\n",
        "    lr: float = 3e-3\n",
        "    print_freq: int = 50\n",
        "\n",
        "\n",
        "class ResidualMLPModel(nn.Module):\n",
        "    \"\"\"A simple residual MLP model with fixed embeddings and one layer.\n",
        "\n",
        "    Note that the model has no biases.\"\"\"\n",
        "\n",
        "    def __init__(self, config: Config):\n",
        "        super().__init__()\n",
        "        n_features, d_embed, d_mlp = config.n_features, config.d_embed, config.d_mlp\n",
        "        # The embedding vectors are random unit vectors\n",
        "        W_E = torch.randn(n_features, d_embed)\n",
        "        W_E = F.normalize(W_E, dim=1)\n",
        "        self.register_buffer(\"W_E\", W_E)\n",
        "\n",
        "        # The MLP weights are trained\n",
        "        self.W_in = nn.Parameter(torch.empty(d_embed, d_mlp))\n",
        "        self.W_out = nn.Parameter(torch.empty(d_mlp, d_embed))\n",
        "        nn.init.xavier_normal_(self.W_in)\n",
        "        nn.init.xavier_normal_(self.W_out)\n",
        "\n",
        "    def forward(self, x: Tensor) -> Tensor:\n",
        "        residual = einops.einsum(x, self.W_E, \"batch n_features, n_features d_embed -> batch d_embed\")\n",
        "        pre_act = einops.einsum(residual, self.W_in, \"batch d_embed, d_embed d_mlp -> batch d_mlp\")\n",
        "        post_act = F.relu(pre_act)\n",
        "        mlp_out = einops.einsum(post_act, self.W_out, \"batch d_mlp, d_mlp d_embed -> batch d_embed\")\n",
        "        residual = residual + mlp_out\n",
        "        out = einops.einsum(residual, self.W_E, \"batch d_embed, n_features d_embed -> batch n_features\")\n",
        "        return out\n",
        "\n",
        "\n",
        "class UniformFeatureDataset:\n",
        "    \"\"\"Dataset of uniformly distributed features.\n",
        "\n",
        "    The inputs X (batch x n_features) are uniformly distributed in the range [-1, 1]. The labels Y (batch x n_features) are X + ReLU(X).\n",
        "    \"\"\"\n",
        "\n",
        "    def __init__(self, config: Config):\n",
        "        self.n_features = config.n_features\n",
        "\n",
        "    def generate_batch(self, batch_size: int, resid: bool = True) -> tuple[Tensor, Tensor]:\n",
        "        batch = 2 * torch.rand((batch_size, self.n_features)) - 1\n",
        "        labels = F.relu(batch) + batch\n",
        "        return batch, labels\n",
        "\n",
        "\n",
        "def train(config: Config, model: ResidualMLPModel, dataset: UniformFeatureDataset) -> None:\n",
        "    torch.manual_seed(42)\n",
        "    np.random.seed(42)\n",
        "\n",
        "    optimizer = torch.optim.AdamW(model.parameters(), lr=config.lr, weight_decay=0.01)\n",
        "    dataset = UniformFeatureDataset(config)\n",
        "\n",
        "    for step in range(config.steps):\n",
        "        batch, labels = dataset.generate_batch(config.batch_size)\n",
        "        optimizer.zero_grad()\n",
        "        outputs = model(batch)\n",
        "        loss = ((outputs - labels) ** 2).mean(dim=(0, 1))\n",
        "        loss.backward()\n",
        "        optimizer.step()\n",
        "\n",
        "        if step % config.print_freq == 0 or step == config.steps - 1:\n",
        "            print(f\"Step {step} loss: {loss.item():.2e}\")\n",
        "\n",
        "    return model\n",
        "\n",
        "\n",
        "def evaluate(model: ResidualMLPModel, dataset: UniformFeatureDataset, batch_size: int = 10_000) -> float:\n",
        "    with torch.no_grad():\n",
        "        batch, labels = dataset.generate_batch(batch_size)\n",
        "        outputs = model(batch)\n",
        "        loss = ((outputs - labels) ** 2).mean(dim=(0, 1)).item()\n",
        "    return loss"
      ],
      "metadata": {
        "id": "0PVf1JvbzJZK"
      },
      "execution_count": null,
      "outputs": []
    },
    {
      "cell_type": "markdown",
      "source": [
        "# Training\n",
        "The following cell runs the training code (should take less than a minute, you can just use a CPU).\n",
        "\n",
        "It should automatically load the model the 2nd time you run this cell, otherwise adjust the code below."
      ],
      "metadata": {
        "id": "_6dHYlxdz3c1"
      }
    },
    {
      "cell_type": "code",
      "source": [
        "config = Config(steps=500, batch_size=2048)\n",
        "\n",
        "model_path = Path(\"model.pkl\")\n",
        "if not model_path.exists():\n",
        "    model = ResidualMLPModel(config)\n",
        "    dataset = UniformFeatureDataset(config)\n",
        "    train(config, model, dataset)\n",
        "    with open(model_path, \"wb\") as f:\n",
        "        pickle.dump(model, f)\n",
        "else:\n",
        "    with open(model_path, \"rb\") as f:\n",
        "        model = pickle.load(f)\n",
        "        dataset = UniformFeatureDataset(config)\n",
        "\n",
        "print(\"Trained model loss:\", evaluate(model, dataset))"
      ],
      "metadata": {
        "colab": {
          "base_uri": "https://localhost:8080/"
        },
        "id": "cRzPEP5hzQf2",
        "outputId": "b96b3d7e-3a2a-484d-d331-7d5a58a1a703"
      },
      "execution_count": null,
      "outputs": [
        {
          "output_type": "stream",
          "name": "stdout",
          "text": [
            "Step 0 loss: 2.01e-01\n",
            "Step 50 loss: 6.99e-02\n",
            "Step 100 loss: 6.27e-02\n",
            "Step 150 loss: 6.20e-02\n",
            "Step 200 loss: 6.09e-02\n",
            "Step 250 loss: 6.00e-02\n",
            "Step 300 loss: 5.86e-02\n",
            "Step 350 loss: 5.80e-02\n",
            "Step 400 loss: 5.69e-02\n",
            "Step 450 loss: 5.61e-02\n",
            "Step 499 loss: 5.56e-02\n",
            "Trained model loss: 0.05555826053023338\n"
          ]
        }
      ]
    },
    {
      "cell_type": "markdown",
      "source": [
        "# Task (part 1)\n",
        "\n",
        "This model has only 50 neurons, but we trained it on 100 input features. We want to see what the model has learned.\n",
        "\n",
        "In this exercise I want to test how well you can iterate on results and find good ways to extract and present information. The suggestions below are what I might say during a mentoring call. You don't have to stick to them exactly, and you don't have to stop there!\n",
        "\n",
        "> I think we should start by measuring the loss per feature (for the different features), can you plot this? And can you plot the input-output response for each feature (where input feature = output feature), maybe in isolation (only that feature non-zero) or together with other features active."
      ],
      "metadata": {
        "id": "ElHGUGx00IDh"
      }
    },
    {
      "cell_type": "code",
      "source": [],
      "metadata": {
        "id": "wb0XsSBz1z_i"
      },
      "execution_count": null,
      "outputs": []
    },
    {
      "cell_type": "code",
      "source": [],
      "metadata": {
        "id": "AGPTFYMe74KP"
      },
      "execution_count": null,
      "outputs": []
    },
    {
      "cell_type": "code",
      "source": [
        "# Example code how you might interact with the model\n",
        "batch_size = 1\n",
        "batch = torch.zeros(batch_size, config.n_features)\n",
        "batch[:, 42] = 1\n",
        "label = F.relu(batch) + batch\n",
        "out = model(batch).detach()\n",
        "plt.scatter(np.arange(config.n_features), out[0], label=\"output\")\n",
        "plt.scatter(np.arange(config.n_features), label[0], label=\"label\")\n",
        "plt.legend()\n",
        "plt.show()"
      ],
      "metadata": {
        "colab": {
          "base_uri": "https://localhost:8080/",
          "height": 450
        },
        "id": "5CNVrHa33xN_",
        "outputId": "c2c098dd-c7d3-4768-8b7a-82ad85fa67bb"
      },
      "execution_count": null,
      "outputs": [
        {
          "output_type": "display_data",
          "data": {
            "text/plain": [
              "<Figure size 640x480 with 1 Axes>"
            ],
            "image/png": "[encoded data removed]"
          },
          "metadata": {}
        }
      ]
    },
    {
      "cell_type": "code",
      "source": [],
      "metadata": {
        "id": "jZ7CRMBo3xRL"
      },
      "execution_count": null,
      "outputs": []
    },
    {
      "cell_type": "code",
      "source": [],
      "metadata": {
        "id": "9y-lpY5v3xUu"
      },
      "execution_count": null,
      "outputs": []
    },
    {
      "cell_type": "markdown",
      "source": [
        "# Task (part 2)"
      ],
      "metadata": {
        "id": "Z7GU3N6D12-P"
      }
    },
    {
      "cell_type": "code",
      "source": [
        "class NaiveSolution(nn.Module):\n",
        "    \"\"\"A simple ResidualMLP model with no embeddings (W_E = I) and identity MLP weights\"\"\"\n",
        "\n",
        "    def __init__(self, config: Config):\n",
        "        super().__init__()\n",
        "        self.W_in = nn.Parameter(torch.eye(config.n_features, config.d_mlp))\n",
        "        self.W_out = nn.Parameter(torch.eye(config.d_mlp, config.n_features))\n",
        "\n",
        "    def forward(self, x: Tensor) -> Tensor:\n",
        "        pre_act = einops.einsum(x, self.W_in, \"batch n_features, n_features d_mlp -> batch d_mlp\")\n",
        "        post_act = F.relu(pre_act)\n",
        "        out = einops.einsum(post_act, self.W_out, \"batch d_mlp, d_mlp n_features -> batch n_features\")\n",
        "        return out + x\n",
        "\n",
        "\n",
        "naive_model = NaiveSolution(config)\n",
        "print(\"Naive model loss:\", evaluate(naive_model, dataset))"
      ],
      "metadata": {
        "colab": {
          "base_uri": "https://localhost:8080/"
        },
        "id": "o_yTeuPG7yZM",
        "outputId": "89b0711b-1a01-49ae-e1d0-5bf247303da8"
      },
      "execution_count": null,
      "outputs": [
        {
          "output_type": "stream",
          "name": "stdout",
          "text": [
            "Naive model loss: 0.08340801298618317\n"
          ]
        }
      ]
    },
    {
      "cell_type": "markdown",
      "source": [
        "\n",
        "The model we trained appears to achieve a better loss than the naive solution (representing just half the features, which should get a loss of 0.0833). How does it do that? What is it doing?\n",
        "\n",
        "> I would generally like to check how the model loss scales with number of active features. (In the training dataset all features were active, but we can just run the model with all features except for some set to 0.) Can you plot the \"average loss per feature\" (that is just loss divided by fraction of active features), as a function of number of active features?\n",
        "\n",
        "> And after that, maybe check if there's any pattern in the input-output response of the \"cross-terms\", i.e. where input feature != output feature?"
      ],
      "metadata": {
        "id": "TEIFTV5D70Yk"
      }
    },
    {
      "cell_type": "code",
      "source": [],
      "metadata": {
        "id": "KeVvcZOW12fe"
      },
      "execution_count": null,
      "outputs": []
    },
    {
      "cell_type": "code",
      "source": [],
      "metadata": {
        "id": "x95KKAyE1xuL"
      },
      "execution_count": null,
      "outputs": []
    },
    {
      "cell_type": "code",
      "source": [],
      "metadata": {
        "id": "VJ65_M9c8FF-"
      },
      "execution_count": null,
      "outputs": []
    },
    {
      "cell_type": "code",
      "source": [],
      "metadata": {
        "id": "4An9sz4j8FIK"
      },
      "execution_count": null,
      "outputs": []
    }
  ]
}